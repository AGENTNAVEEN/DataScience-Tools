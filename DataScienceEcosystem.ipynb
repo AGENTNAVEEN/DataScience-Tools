{
 "cells": [
  {
   "cell_type": "markdown",
   "id": "eec3539e",
   "metadata": {},
   "source": [
    "# Data Science Tools and Ecosystem"
   ]
  },
  {
   "cell_type": "markdown",
   "id": "b3128ccd",
   "metadata": {},
   "source": [
    "Now in this notebook,data science and the usage of its tools are summarized."
   ]
  },
  {
   "cell_type": "markdown",
   "id": "9cc1f790",
   "metadata": {},
   "source": [
    "Some of the key takeaways from the course."
   ]
  },
  {
   "cell_type": "markdown",
   "id": "f7c256ce",
   "metadata": {},
   "source": [
    "**Objective:**\n",
    "* python\n",
    "* Java\n",
    "* java script \n",
    "* Sql\n",
    "* Numpy"
   ]
  },
  {
   "cell_type": "markdown",
   "id": "f7f95c5f",
   "metadata": {},
   "source": [
    "Some of the popular languages that are used by the data scientist are given below:\n",
    "1.Python\n",
    "2.scala\n",
    "3.java script\n",
    "4.Sql etc...\n",
    "\n"
   ]
  },
  {
   "cell_type": "markdown",
   "id": "752aea79",
   "metadata": {},
   "source": [
    "Some of the commonly used libraries used by the data scientists include:\n",
    "1.pandas\n",
    "2.numpy\n",
    "3.scikit-learn\n",
    "4.XGBoost etc...."
   ]
  },
  {
   "cell_type": "markdown",
   "id": "a4826a59",
   "metadata": {},
   "source": [
    "|Data Science Tools|\n",
    "|------------------|\n",
    "|Rstudio           |\n",
    "|TensorFlow        |\n",
    "|Apache Hadoop     |"
   ]
  },
  {
   "cell_type": "markdown",
   "id": "57edbd70",
   "metadata": {},
   "source": [
    "### Below are a few examples of evaluating arithmetic expressions in python."
   ]
  },
  {
   "cell_type": "code",
   "execution_count": 1,
   "id": "aaacf7b4",
   "metadata": {},
   "outputs": [
    {
     "data": {
      "text/plain": [
       "30"
      ]
     },
     "execution_count": 1,
     "metadata": {},
     "output_type": "execute_result"
    }
   ],
   "source": [
    "#This is a simple arithmetic expression to multiply then add integers.\n",
    "(4*5)+10"
   ]
  },
  {
   "cell_type": "code",
   "execution_count": 6,
   "id": "fd06fe93",
   "metadata": {},
   "outputs": [
    {
     "data": {
      "text/plain": [
       "3.3333333333333335"
      ]
     },
     "execution_count": 6,
     "metadata": {},
     "output_type": "execute_result"
    }
   ],
   "source": [
    "#This will convert 200 minutes to hours by divided by 60\n",
    "200/60"
   ]
  },
  {
   "cell_type": "markdown",
   "id": "dfaf1f17",
   "metadata": {},
   "source": [
    "## Author\n",
    "Naveen N"
   ]
  }
 ],
 "metadata": {
  "kernelspec": {
   "display_name": "Python 3 (ipykernel)",
   "language": "python",
   "name": "python3"
  },
  "language_info": {
   "codemirror_mode": {
    "name": "ipython",
    "version": 3
   },
   "file_extension": ".py",
   "mimetype": "text/x-python",
   "name": "python",
   "nbconvert_exporter": "python",
   "pygments_lexer": "ipython3",
   "version": "3.10.9"
  }
 },
 "nbformat": 4,
 "nbformat_minor": 5
}
